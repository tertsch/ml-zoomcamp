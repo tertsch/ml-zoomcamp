{
 "cells": [
  {
   "cell_type": "code",
   "execution_count": 34,
   "outputs": [
    {
     "name": "stdout",
     "output_type": "stream",
     "text": [
      "   longitude  latitude  housing_median_age  total_rooms  total_bedrooms  \\\n",
      "0    -122.23     37.88                41.0        880.0           129.0   \n",
      "1    -122.22     37.86                21.0       7099.0          1106.0   \n",
      "2    -122.24     37.85                52.0       1467.0           190.0   \n",
      "3    -122.25     37.85                52.0       1274.0           235.0   \n",
      "4    -122.25     37.85                52.0       1627.0           280.0   \n",
      "\n",
      "   population  households  median_income  median_house_value ocean_proximity  \n",
      "0       322.0       126.0         8.3252            452600.0        NEAR BAY  \n",
      "1      2401.0      1138.0         8.3014            358500.0        NEAR BAY  \n",
      "2       496.0       177.0         7.2574            352100.0        NEAR BAY  \n",
      "3       558.0       219.0         5.6431            341300.0        NEAR BAY  \n",
      "4       565.0       259.0         3.8462            342200.0        NEAR BAY  \n"
     ]
    }
   ],
   "source": [
    "import pandas as pd\n",
    "import numpy as np\n",
    "\n",
    "data = pd.read_csv(\"data/housing.csv\")\n",
    "\n",
    "print(data.head())"
   ],
   "metadata": {
    "collapsed": false,
    "pycharm": {
     "name": "#%%\n"
    }
   }
  },
  {
   "cell_type": "code",
   "execution_count": 77,
   "outputs": [],
   "source": [
    "df = data.iloc[:, 0:9]\n",
    "print(df)"
   ],
   "metadata": {
    "collapsed": false,
    "pycharm": {
     "name": "#%%\n"
    }
   }
  },
  {
   "cell_type": "code",
   "execution_count": 85,
   "outputs": [
    {
     "name": "stdout",
     "output_type": "stream",
     "text": [
      "Empty values in column total_bedrooms\n",
      "Question 1: 207\n"
     ]
    }
   ],
   "source": [
    "null_cols = df.columns[df.isnull().any()]\n",
    "column_with_empty_values = df[null_cols.values[0]]\n",
    "print(\"Empty values in column\", null_cols.values[0])\n",
    "print(\"Question 1:\", column_with_empty_values.isna().sum())"
   ],
   "metadata": {
    "collapsed": false,
    "pycharm": {
     "name": "#%%\n"
    }
   }
  },
  {
   "cell_type": "code",
   "execution_count": 58,
   "outputs": [
    {
     "name": "stdout",
     "output_type": "stream",
     "text": [
      "Question 2: 1166.0\n"
     ]
    }
   ],
   "source": [
    "print(\"Question 2:\", df.population.median())"
   ],
   "metadata": {
    "collapsed": false,
    "pycharm": {
     "name": "#%%\n"
    }
   }
  },
  {
   "cell_type": "code",
   "execution_count": 86,
   "outputs": [
    {
     "data": {
      "text/plain": "array([10.98191414, 12.01854355, 11.84510995, ..., 12.31088751,\n       12.55497093, 12.69158354])"
     },
     "execution_count": 86,
     "metadata": {},
     "output_type": "execute_result"
    }
   ],
   "source": [
    "n = len(df)\n",
    "idx = np.arange(n)\n",
    "\n",
    "np.random.seed(42)\n",
    "np.random.shuffle(idx)\n",
    "\n",
    "df_train_len = int(n * .6)\n",
    "df_valid_len = int(n * .2)\n",
    "df_test_len = n - df_train_len - df_valid_len\n",
    "\n",
    "df_train = df.iloc[idx[:df_train_len]]\n",
    "df_valid = df.iloc[idx[df_train_len:(df_train_len + df_valid_len)]]\n",
    "df_test =  df.iloc[idx[(df_train_len + df_valid_len):]]\n",
    "\n",
    "feat_train = df_train.iloc[:,0:8]\n",
    "feat_valid = df_valid.iloc[:,0:8]\n",
    "feat_test = df_test.iloc[:,0:8]\n",
    "\n",
    "y_train = df_train.median_house_value.values\n",
    "y_valid = df_valid.median_house_value.values\n",
    "y_test = df_test.median_house_value.values\n",
    "\n",
    "y_train_log = np.log1p(df_train.median_house_value.values)\n",
    "y_valid_log = np.log1p(df_valid.median_house_value.values)\n",
    "y_test_log = np.log1p(df_test.median_house_value.values)\n",
    "\n",
    "y_test_log"
   ],
   "metadata": {
    "collapsed": false,
    "pycharm": {
     "name": "#%%\n"
    }
   }
  }
 ],
 "metadata": {
  "kernelspec": {
   "display_name": "Python 3",
   "language": "python",
   "name": "python3"
  },
  "language_info": {
   "codemirror_mode": {
    "name": "ipython",
    "version": 2
   },
   "file_extension": ".py",
   "mimetype": "text/x-python",
   "name": "python",
   "nbconvert_exporter": "python",
   "pygments_lexer": "ipython2",
   "version": "2.7.6"
  }
 },
 "nbformat": 4,
 "nbformat_minor": 0
}